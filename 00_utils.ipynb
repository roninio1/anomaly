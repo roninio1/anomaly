{
 "cells": [
  {
   "cell_type": "code",
   "execution_count": null,
   "metadata": {},
   "outputs": [],
   "source": [
    "# default_exp utils"
   ]
  },
  {
   "cell_type": "markdown",
   "metadata": {},
   "source": [
    "# Utils\n",
    "\n",
    "> contains various util functions and classes "
   ]
  },
  {
   "cell_type": "code",
   "execution_count": null,
   "metadata": {},
   "outputs": [],
   "source": [
    "#hide\n",
    "from nbdev.showdoc import *"
   ]
  },
  {
   "cell_type": "code",
   "execution_count": null,
   "metadata": {},
   "outputs": [],
   "source": [
    "#export\n",
    "import os\n",
    "import re\n",
    "\n",
    "import pandas as pd\n",
    "import numpy as np\n",
    "from random import randrange\n",
    "\n",
    "from pm4py.objects.log.importer.xes import importer as xes_importer\n",
    "from pm4py.objects.conversion.log import converter as log_converter"
   ]
  },
  {
   "cell_type": "code",
   "execution_count": null,
   "metadata": {},
   "outputs": [
    {
     "name": "stdout",
     "output_type": "stream",
     "text": [
      "The autoreload extension is already loaded. To reload it, use:\n",
      "  %reload_ext autoreload\n"
     ]
    }
   ],
   "source": [
    "%load_ext autoreload\n",
    "%autoreload 2\n",
    "%load_ext memory_profiler\n",
    "%matplotlib inline"
   ]
  },
  {
   "cell_type": "code",
   "execution_count": null,
   "metadata": {},
   "outputs": [],
   "source": [
    "#export\n",
    "def f1score(truth, classified):\n",
    "    tp = len(set(truth).intersection(set(classified)))\n",
    "    t = len(truth)\n",
    "    p = len(classified)\n",
    "    \n",
    "    if (p == 0):\n",
    "         precision = 1\n",
    "    else:\n",
    "        precision = tp/p\n",
    "        \n",
    "    if (t == 0):\n",
    "        recall = 1\n",
    "    else:\n",
    "        recall = tp/t\n",
    "    \n",
    "    if (precision == 0 and recall == 0):\n",
    "        f1 = 0\n",
    "    else:\n",
    "        f1 = 2*precision*recall/(precision+recall)\n",
    "    return f1, tp, t, p"
   ]
  },
  {
   "cell_type": "code",
   "execution_count": null,
   "metadata": {},
   "outputs": [],
   "source": [
    "#export\n",
    "def df_preproc (df):\n",
    "    df['event_id']= df.index\n",
    "    df.index = df['trace_id']\n",
    "    df = df[[\"event_id\", \"activity\", \"trace_id\"]]\n",
    "    \n",
    "    for i in df['trace_id'].unique():\n",
    "        df_cop = df.loc[i]\n",
    "        df.loc[i, 'event_id']  = np.arange(1, len(df_cop)+1)\n",
    "        \n",
    "    df.reset_index(drop=True, inplace=True)\n",
    "    \n",
    "    trace_ends = list(df.loc[df['event_id']==1].index)[1:]\n",
    "    trace_ends.append(len(df))\n",
    "    new = np.insert(np.array(df),trace_ends, [-1, 'end', 0], axis=0)\n",
    "    df = pd.DataFrame(data=new, columns=[\"event_id\", \"activity\", \"trace_id\"])\n",
    "    \n",
    "    trace_starts = list(df.loc[df['event_id']==1].index)\n",
    "    new = np.insert(np.array(df),trace_starts, [0, 'start', 0], axis=0)\n",
    "    \n",
    "    trace_starts = np.where(new[:,0]==0)[0]\n",
    "    trace_ends = np.where(new[:,0]==-1)[0]\n",
    "    new[trace_starts,2] = new[np.array(trace_starts)+1,2]\n",
    "    new[trace_ends,2] = new[np.array(trace_starts)+1,2]\n",
    "    \n",
    "    \n",
    "    df = pd.DataFrame(data=new, columns=[\"event_id\", \"activity\", \"trace_id\"])\n",
    "    df.index = df['trace_id']\n",
    "\n",
    "    return df"
   ]
  },
  {
   "cell_type": "code",
   "execution_count": null,
   "metadata": {},
   "outputs": [],
   "source": [
    "def load_data (data='PDC2016'):\n",
    "    '''loads eventlogs from different sources, returns event_df with start/end event, test_df and truth_df'''\n",
    "    \n",
    "    #---------------PDC2016|2017--------------------------------------------------\n",
    "    \n",
    "    if (data == 'PDC2016' or data == 'PDC2017'):\n",
    "        directory = r'/mnt/data/jlahann/jupyterlab/fastpm/nbs/PDC data/'+ data +'/train'\n",
    "        files = [filename for filename in os.listdir(directory) if filename.split('.')[-1] =='csv']\n",
    "        files.sort()\n",
    "        pick = randrange(len(files)) #picks random eventlog\n",
    "        df = pd.read_csv('/mnt/data/jlahann/jupyterlab/fastpm/nbs/PDC data/'+ data +'/train/' + files[pick], sep=',')\n",
    "        df = df.rename(columns={\"act_name\": \"activity\", \"case_id\": \"trace_id\"})\n",
    "        event_df = df_preproc(df)\n",
    "        \n",
    "        directory = r'/mnt/data/jlahann/jupyterlab/fastpm/nbs/PDC data/'+ data +'/test'\n",
    "        files = [filename for filename in os.listdir(directory)]\n",
    "        files.sort()\n",
    "        log = xes_importer.apply('/mnt/data/jlahann/jupyterlab/fastpm/nbs/PDC data/'+ data +'/test/' + files[pick])\n",
    "        df = log_converter.apply(log, variant=log_converter.Variants.TO_DATA_FRAME)\n",
    "        df = df.rename(columns={\"concept:name\": \"activity\", \"case:concept:name\": \"trace_id\"})\n",
    "        df = df[['activity', 'trace_id']]\n",
    "        test_df = df_preproc(df)\n",
    "        \n",
    "        truth = [log[i].attributes['pdc:isPos'] for i in range(len(log))]\n",
    "        d = {'case': range(1, len(log)+1), 'normal': truth}\n",
    "        truth_df = pd.DataFrame (data=d)\n",
    "    \n",
    "    #---------------PDC2019--------------------------------------------------\n",
    "    \n",
    "    if (data == 'PDC2019'):\n",
    "        directory = r'/mnt/data/jlahann/jupyterlab/fastpm/nbs/PDC data/'+ data +'/train'\n",
    "        files = [filename for filename in os.listdir(directory) if filename.split('.')[-1] =='csv']\n",
    "        files.sort()\n",
    "        pick = randrange(len(files)) #picks random eventlog\n",
    "        df = pd.read_csv('/mnt/data/jlahann/jupyterlab/fastpm/nbs/PDC data/'+ data +'/train/' + files[pick], sep=',')\n",
    "        df = df.rename(columns={\"event\": \"activity\", \"case\": \"trace_id\"})\n",
    "        df = df[['activity', 'trace_id']]\n",
    "        event_df = df_preproc(df)\n",
    "        \n",
    "    \n",
    "        directory = r'/mnt/data/jlahann/jupyterlab/fastpm/nbs/PDC data/'+ data +'/test'\n",
    "        files = [filename for filename in os.listdir(directory)]\n",
    "        files.sort()\n",
    "        log = xes_importer.apply('/mnt/data/jlahann/jupyterlab/fastpm/nbs/PDC data/'+ data +'/test/' + files[pick])\n",
    "        df = log_converter.apply(log, variant=log_converter.Variants.TO_DATA_FRAME)\n",
    "        df = df.rename(columns={\"concept:name\": \"activity\", \"case:concept:name\": \"trace_id\"})\n",
    "        df = df[['activity', 'trace_id']]\n",
    "        test_df = df_preproc(df)\n",
    "        \n",
    "        truth = [log[i].attributes['pdc:isPos'] for i in range(len(log))]\n",
    "        d = {'case': range(1, len(log)+1), 'normal': truth}\n",
    "        truth_df = pd.DataFrame (data=d)\n",
    "        \n",
    "        \n",
    "    #---------------PDC2020--------------------------------------------------\n",
    "        \n",
    "    \n",
    "    \n",
    "    return event_df, test_df, truth_df"
   ]
  },
  {
   "cell_type": "code",
   "execution_count": null,
   "metadata": {},
   "outputs": [],
   "source": []
  }
 ],
 "metadata": {
  "kernelspec": {
   "display_name": "robin",
   "language": "python",
   "name": "robin"
  }
 },
 "nbformat": 4,
 "nbformat_minor": 2
}
